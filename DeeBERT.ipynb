{
  "cells": [
    {
      "cell_type": "code",
      "execution_count": null,
      "metadata": {
        "colab": {
          "base_uri": "https://localhost:8080/"
        },
        "id": "TBlw3BzstgWA",
        "outputId": "e445a3a9-574a-4560-e73a-a948e77cdcd0"
      },
      "outputs": [],
      "source": [
        "!conda activate py39\n",
        "!conda install --file ./requirements.txt\n",
        "!conda install --file ./examples/requirements.txt\n"
      ]
    },
    {
      "cell_type": "markdown",
      "metadata": {
        "id": "2t8IsAAPadUR"
      },
      "source": [
        "### Download GLUE dataset\n"
      ]
    },
    {
      "cell_type": "code",
      "execution_count": null,
      "metadata": {
        "colab": {
          "base_uri": "https://localhost:8080/"
        },
        "id": "XAKIu1S2vkUW",
        "outputId": "6799c519-1904-458c-90da-847b87414513"
      },
      "outputs": [],
      "source": [
        "!python download_glue_data.py --data_dir glue_data --tasks all\n"
      ]
    },
    {
      "cell_type": "markdown",
      "metadata": {
        "id": "TG7ZYWt4adUV"
      },
      "source": [
        "### Variables\n"
      ]
    },
    {
      "cell_type": "code",
      "execution_count": null,
      "metadata": {
        "id": "03UBcgP3adUW"
      },
      "outputs": [],
      "source": [
        "PATH_TO_DATA=\"glue_data\"\n",
        "MODEL_TYPE=\"bert\"  # bert or roberta\n",
        "MODEL_SIZE=\"base\"  # base or large\n",
        "DATASETS=\"CoLA SST-2 MRPC STS-B QQP MNLI QNLI RTE WNLI\"\n",
        "# CoLA  acceptability\n",
        "# SST-2 sentiment\n",
        "# MRPC  paraphrase\n",
        "# STS-B sentence similarity doesn't work\n",
        "# QQP   paraphase\n",
        "# MNLI  NLI\n",
        "# QNLI  QA/NLI\n",
        "# RTE   NLI\n",
        "# WNLI  coreference/NLI\n",
        "DATASET=\"RTE\"\n",
        "N_GPU=2"
      ]
    },
    {
      "cell_type": "markdown",
      "metadata": {
        "id": "IpEL7einadUX"
      },
      "source": [
        "### This is for fine-tuning and evaluating models as in the original BERT paper.\n"
      ]
    },
    {
      "cell_type": "code",
      "execution_count": null,
      "metadata": {
        "colab": {
          "base_uri": "https://localhost:8080/"
        },
        "id": "tLCNKcVT02ys",
        "outputId": "4aa05255-9ea7-4c80-95c6-f7e207e3d734"
      },
      "outputs": [],
      "source": [
        "!bash scripts/train.sh {PATH_TO_DATA} {MODEL_TYPE} {MODEL_SIZE} {DATASET} {N_GPU}\n"
      ]
    },
    {
      "cell_type": "markdown",
      "metadata": {
        "id": "vONhZ5TNadUa"
      },
      "source": [
        "### This is for fine-tuning DeeBERT models.\n"
      ]
    },
    {
      "cell_type": "code",
      "execution_count": null,
      "metadata": {
        "colab": {
          "base_uri": "https://localhost:8080/"
        },
        "id": "EJw_IZEW-6OB",
        "outputId": "da9973a1-b44a-46b4-c79f-6ddf0cfcb17e"
      },
      "outputs": [],
      "source": [
        "!bash scripts/train_highway.sh {PATH_TO_DATA} {MODEL_TYPE} {MODEL_SIZE} {DATASET} {N_GPU}\n"
      ]
    },
    {
      "cell_type": "markdown",
      "metadata": {
        "id": "i0mxBsXxadUd"
      },
      "source": [
        "### This is for evaluating each exit layer for fine-tuned DeeBERT models.\n"
      ]
    },
    {
      "cell_type": "code",
      "execution_count": null,
      "metadata": {
        "colab": {
          "base_uri": "https://localhost:8080/"
        },
        "id": "aUw9rF-rDxf_",
        "outputId": "d11eec40-50b3-48cc-f323-c69b66c2adb0"
      },
      "outputs": [],
      "source": [
        "!bash scripts/eval_highway.sh {PATH_TO_DATA} {MODEL_TYPE} {MODEL_SIZE} {DATASET}\n"
      ]
    },
    {
      "cell_type": "markdown",
      "metadata": {
        "id": "oxrab0c7adUf"
      },
      "source": [
        "### This is for evaluating fine-tuned DeeBERT models, given a number of different early exit entropy thresholds.\n"
      ]
    },
    {
      "cell_type": "code",
      "execution_count": null,
      "metadata": {
        "colab": {
          "base_uri": "https://localhost:8080/"
        },
        "id": "bPTUPCUlDqiF",
        "outputId": "89fd6141-10d7-41ef-8aee-c03e8fa068b9"
      },
      "outputs": [],
      "source": [
        "!bash scripts/eval_entropy.sh {PATH_TO_DATA} {MODEL_TYPE} {MODEL_SIZE} {DATASET}\n"
      ]
    },
    {
      "cell_type": "markdown",
      "metadata": {},
      "source": [
        "### This is for reading `.npy` data in `plotting/`\n"
      ]
    },
    {
      "cell_type": "code",
      "execution_count": null,
      "metadata": {
        "colab": {
          "base_uri": "https://localhost:8080/"
        },
        "id": "gxuy21xladUh",
        "outputId": "e054e910-99fd-47a4-f2bb-8e21dfc86e8c"
      },
      "outputs": [],
      "source": [
        "import os\n",
        "import numpy as np\n",
        "relative_path = \"plotting/saved_models/\"+MODEL_TYPE+\"-\"+MODEL_SIZE+\"/\"+DATASET+\"/two_stage/\"\n",
        "print(relative_path)\n",
        "\n",
        "for path, lists, frame in os.walk(relative_path):\n",
        "    for value in frame:\n",
        "        print(path+value)\n",
        "        data = np.load(path+\"/\"+value, allow_pickle=True)\n",
        "        print(data)\n",
        "        print()\n"
      ]
    }
  ],
  "metadata": {
    "accelerator": "GPU",
    "colab": {
      "collapsed_sections": [],
      "name": "DeeBERT.ipynb",
      "provenance": []
    },
    "kernelspec": {
      "display_name": "Python 3",
      "name": "python3"
    },
    "language_info": {
      "codemirror_mode": {
        "name": "ipython",
        "version": 3
      },
      "file_extension": ".py",
      "mimetype": "text/x-python",
      "name": "python",
      "nbconvert_exporter": "python",
      "pygments_lexer": "ipython3",
      "version": "3.9.7"
    }
  },
  "nbformat": 4,
  "nbformat_minor": 0
}
