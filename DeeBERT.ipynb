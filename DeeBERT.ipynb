{
  "cells": [
    {
      "cell_type": "markdown",
      "metadata": {},
      "source": [
        "### Install dependencies"
      ]
    },
    {
      "cell_type": "code",
      "execution_count": null,
      "metadata": {
        "colab": {
          "base_uri": "https://localhost:8080/"
        },
        "id": "TBlw3BzstgWA",
        "outputId": "e445a3a9-574a-4560-e73a-a948e77cdcd0"
      },
      "outputs": [],
      "source": [
        "!conda activate py39\n",
        "!conda install --file ./requirements.txt\n",
        "!conda install --file ./examples/requirements.txt\n"
      ]
    },
    {
      "cell_type": "markdown",
      "metadata": {
        "id": "2t8IsAAPadUR"
      },
      "source": [
        "### Download GLUE dataset\n"
      ]
    },
    {
      "cell_type": "code",
      "execution_count": null,
      "metadata": {
        "colab": {
          "base_uri": "https://localhost:8080/"
        },
        "id": "XAKIu1S2vkUW",
        "outputId": "6799c519-1904-458c-90da-847b87414513"
      },
      "outputs": [],
      "source": [
        "!python download_glue_data.py --data_dir glue_data --tasks all\n"
      ]
    },
    {
      "cell_type": "markdown",
      "metadata": {
        "id": "TG7ZYWt4adUV"
      },
      "source": [
        "### Variables\n"
      ]
    },
    {
      "cell_type": "code",
      "execution_count": 1,
      "metadata": {
        "id": "03UBcgP3adUW"
      },
      "outputs": [],
      "source": [
        "PATH_TO_DATA=\"glue_data\"\n",
        "MODEL_TYPE=\"bert\"  # bert or roberta\n",
        "MODEL_SIZE=\"base\"  # base or large\n",
        "DATASETS=\"CoLA SST-2 MRPC STS-B QQP MNLI QNLI RTE WNLI\"\n",
        "# CoLA  acceptability\n",
        "# SST-2 sentiment\n",
        "# MRPC  paraphrase\n",
        "# STS-B sentence similarity FIXME: doesn't work\n",
        "# QQP   paraphase\n",
        "# MNLI  NLI\n",
        "# QNLI  QA/NLI\n",
        "# RTE   NLI FIXME: doesn't work\n",
        "# WNLI  coreference/NLI\n",
        "DATASET=\"MRPC\"\n",
        "N_GPU=2"
      ]
    },
    {
      "cell_type": "markdown",
      "metadata": {
        "id": "IpEL7einadUX"
      },
      "source": [
        "### This is for fine-tuning and evaluating models as in the original BERT paper.\n"
      ]
    },
    {
      "cell_type": "code",
      "execution_count": null,
      "metadata": {
        "colab": {
          "base_uri": "https://localhost:8080/"
        },
        "id": "tLCNKcVT02ys",
        "outputId": "4aa05255-9ea7-4c80-95c6-f7e207e3d734"
      },
      "outputs": [],
      "source": [
        "!bash scripts/train.sh {PATH_TO_DATA} {MODEL_TYPE} {MODEL_SIZE} {DATASET} {N_GPU}\n"
      ]
    },
    {
      "cell_type": "markdown",
      "metadata": {
        "id": "vONhZ5TNadUa"
      },
      "source": [
        "### This is for fine-tuning DeeBERT models.\n"
      ]
    },
    {
      "cell_type": "code",
      "execution_count": null,
      "metadata": {
        "colab": {
          "base_uri": "https://localhost:8080/"
        },
        "id": "EJw_IZEW-6OB",
        "outputId": "da9973a1-b44a-46b4-c79f-6ddf0cfcb17e"
      },
      "outputs": [],
      "source": [
        "!bash scripts/train_highway.sh {PATH_TO_DATA} {MODEL_TYPE} {MODEL_SIZE} {DATASET} {N_GPU}\n"
      ]
    },
    {
      "cell_type": "markdown",
      "metadata": {
        "id": "i0mxBsXxadUd"
      },
      "source": [
        "### This is for evaluating each exit layer for fine-tuned DeeBERT models.\n"
      ]
    },
    {
      "cell_type": "code",
      "execution_count": null,
      "metadata": {
        "colab": {
          "base_uri": "https://localhost:8080/"
        },
        "id": "aUw9rF-rDxf_",
        "outputId": "d11eec40-50b3-48cc-f323-c69b66c2adb0"
      },
      "outputs": [],
      "source": [
        "!bash scripts/eval_highway.sh {PATH_TO_DATA} {MODEL_TYPE} {MODEL_SIZE} {DATASET}\n"
      ]
    },
    {
      "cell_type": "markdown",
      "metadata": {
        "id": "oxrab0c7adUf"
      },
      "source": [
        "### This is for evaluating fine-tuned DeeBERT models, given a number of different early exit entropy thresholds.\n"
      ]
    },
    {
      "cell_type": "code",
      "execution_count": null,
      "metadata": {
        "colab": {
          "base_uri": "https://localhost:8080/"
        },
        "id": "bPTUPCUlDqiF",
        "outputId": "89fd6141-10d7-41ef-8aee-c03e8fa068b9"
      },
      "outputs": [],
      "source": [
        "!bash scripts/eval_entropy.sh {PATH_TO_DATA} {MODEL_TYPE} {MODEL_SIZE} {DATASET}\n"
      ]
    },
    {
      "cell_type": "markdown",
      "metadata": {},
      "source": [
        "### This is for reading `.npy` data in `plotting/`\n"
      ]
    },
    {
      "cell_type": "code",
      "execution_count": 10,
      "metadata": {
        "colab": {
          "base_uri": "https://localhost:8080/"
        },
        "id": "gxuy21xladUh",
        "outputId": "e054e910-99fd-47a4-f2bb-8e21dfc86e8c"
      },
      "outputs": [
        {
          "name": "stdout",
          "output_type": "stream",
          "text": [
            "plotting/saved_models/bert-base/MRPC/two_stage/\n",
            "plotting/saved_models/bert-base/MRPC/two_stage/each_layer.npy\n",
            "[0.81222707 0.81222707 0.81222707 0.81222707 0.82861401 0.84094488\n",
            " 0.84751204 0.8427673  0.8576     0.85806452 0.86363636 0.88666667]\n",
            "plotting/saved_models/bert-base/MRPC/two_stage/entropy_0.0.npy\n",
            "[{1: 0, 2: 0, 3: 0, 4: 0, 5: 0, 6: 0, 7: 0, 8: 0, 9: 0, 10: 0, 11: 0, 12: 408}\n",
            " {1: 0, 2: 0, 3: 0, 4: 0, 5: 0, 6: 0, 7: 0, 8: 0, 9: 0, 10: 0, 11: 0, 12: 340}\n",
            " 4.7705090045928955 1.0 0.8866666666666667]\n",
            "plotting/saved_models/bert-base/MRPC/two_stage/entropy_0.1.npy\n",
            "[{1: 0, 2: 0, 3: 0, 4: 0, 5: 0, 6: 0, 7: 0, 8: 0, 9: 0, 10: 2, 11: 12, 12: 394}\n",
            " {1: 0, 2: 0, 3: 0, 4: 0, 5: 0, 6: 0, 7: 0, 8: 0, 9: 0, 10: 2, 11: 12, 12: 326}\n",
            " 4.668928861618042 0.9967320261437909 0.8866666666666667]\n",
            "plotting/saved_models/bert-base/MRPC/two_stage/entropy_0.2.npy\n",
            "[{1: 0, 2: 0, 3: 0, 4: 0, 5: 0, 6: 1, 7: 2, 8: 0, 9: 1, 10: 74, 11: 38, 12: 292}\n",
            " {1: 0, 2: 0, 3: 0, 4: 0, 5: 0, 6: 1, 7: 2, 8: 0, 9: 1, 10: 73, 11: 36, 12: 227}\n",
            " 4.848945617675781 0.9581290849673203 0.8866666666666667]\n",
            "plotting/saved_models/bert-base/MRPC/two_stage/entropy_0.3.npy\n",
            "[{1: 0, 2: 0, 3: 0, 4: 0, 5: 0, 6: 15, 7: 29, 8: 1, 9: 21, 10: 93, 11: 25, 12: 224}\n",
            " {1: 0, 2: 0, 3: 0, 4: 0, 5: 0, 6: 14, 7: 28, 8: 1, 9: 21, 10: 88, 11: 21, 12: 166}\n",
            " 4.319327354431152 0.8952205882352942 0.8851913477537438]\n",
            "plotting/saved_models/bert-base/MRPC/two_stage/entropy_0.4.npy\n",
            "[{1: 0, 2: 0, 3: 0, 4: 0, 5: 1, 6: 75, 7: 52, 8: 0, 9: 27, 10: 67, 11: 21, 12: 165}\n",
            " {1: 0, 2: 0, 3: 0, 4: 0, 5: 1, 6: 72, 7: 46, 8: 0, 9: 24, 10: 57, 11: 13, 12: 124}\n",
            " 3.836819887161255 0.8053513071895425 0.8822553897180763]\n",
            "plotting/saved_models/bert-base/MRPC/two_stage/entropy_0.5.npy\n",
            "[{1: 0, 2: 0, 3: 0, 4: 0, 5: 48, 6: 120, 7: 33, 8: 1, 9: 31, 10: 48, 11: 14, 12: 113}\n",
            " {1: 0, 2: 0, 3: 0, 4: 0, 5: 42, 6: 106, 7: 27, 8: 1, 9: 24, 10: 37, 11: 12, 12: 86}\n",
            " 3.51126766204834 0.7083333333333334 0.8797364085667215]\n",
            "plotting/saved_models/bert-base/MRPC/two_stage/entropy_0.6.npy\n",
            "[{1: 0, 2: 0, 3: 0, 4: 152, 5: 53, 6: 62, 7: 21, 8: 2, 9: 24, 10: 35, 11: 12, 12: 47}\n",
            " {1: 0, 2: 0, 3: 0, 4: 131, 5: 40, 6: 48, 7: 17, 8: 1, 9: 18, 10: 26, 11: 11, 12: 34}\n",
            " 2.9648337364196777 0.5453431372549019 0.8673139158576052]\n",
            "plotting/saved_models/bert-base/MRPC/two_stage/entropy_0.7.npy\n",
            "[{1: 408, 2: 0, 3: 0, 4: 0, 5: 0, 6: 0, 7: 0, 8: 0, 9: 0, 10: 0, 11: 0, 12: 0}\n",
            " {1: 279, 2: 0, 3: 0, 4: 0, 5: 0, 6: 0, 7: 0, 8: 0, 9: 0, 10: 0, 11: 0, 12: 0}\n",
            " 1.059770107269287 0.08333333333333333 0.8122270742358079]\n"
          ]
        },
        {
          "data": {
            "image/png": "[encoded data removed]",
            "text/plain": [
              "<Figure size 720x432 with 2 Axes>"
            ]
          },
          "metadata": {
            "needs_background": "light"
          },
          "output_type": "display_data"
        }
      ],
      "source": [
        "import os\n",
        "import numpy as np\n",
        "import matplotlib.pyplot as plt\n",
        "import math\n",
        "\n",
        "relative_path = \"plotting/saved_models/\"+MODEL_TYPE + \\\n",
        "    \"-\"+MODEL_SIZE+\"/\"+DATASET+\"/two_stage/\"\n",
        "print(relative_path)\n",
        "\n",
        "\n",
        "correct_colors = ['#99e2b4', '#78c6a3', '#56AB91', '#469D89',\n",
        "                  '#358F80', '#248277', '#14746F', '#036666']\n",
        "incorrect_colors = ['#FFF0F3', '#FFB3C1', '#FF758F', '#FF4D6D',\n",
        "                    '#C9184A', '#A4133C', '#800F2F', '#590D22']\n",
        "\n",
        "\n",
        "def plot(fname, data, cnt):\n",
        "    if fname == 'each_layer.npy':\n",
        "        x = np.arange(1, 13)\n",
        "        ax2.plot(x, data)\n",
        "        ax2.set_xlabel('Layer')\n",
        "        ax2.set_ylabel('Score')\n",
        "        ax2.xaxis.set_major_locator(plt.MultipleLocator(1))\n",
        "        ax2.yaxis.set_major_locator(plt.MultipleLocator(0.1))\n",
        "        ax2.set_ylim(bottom=0, top=1)\n",
        "    else:\n",
        "        total = list(data[0].values())\n",
        "        correct = list(data[1].values())\n",
        "        incorrect = [i - j for i, j in zip(total, correct)]\n",
        "        y_lim = np.sum(total)\n",
        "        x = np.arange(1, 13)\n",
        "        width = 0.12\n",
        "        bias = (cnt-4.5)*width\n",
        "        ax1.bar(x+bias, correct, width, label='correct',\n",
        "                color=correct_colors[(cnt-1) % len(correct_colors)])\n",
        "        ax1.bar(x+bias, incorrect, width,\n",
        "                bottom=correct, label='incorrect', color=incorrect_colors[(cnt-1) % len(incorrect_colors)])\n",
        "        ax1.set_title(DATASET+' early exit evaluation')\n",
        "        ax1.set_xlabel('Layer')\n",
        "        ax1.set_ylabel('Number (total: {})'.format(y_lim))\n",
        "        ax1.xaxis.set_major_locator(plt.MultipleLocator(1))\n",
        "        ax1.set_xlim(left=0.5, right=12.5)\n",
        "        ax1.set_ylim(bottom=0, top=y_lim)\n",
        "\n",
        "\n",
        "for path, lists, frame in os.walk(relative_path):\n",
        "    frame.sort()\n",
        "    cnt = 0\n",
        "    fig = plt.figure(figsize=(10, 6))\n",
        "    ax1 = fig.add_subplot(1, 1, 1)\n",
        "    ax2 = ax1.twinx()\n",
        "    for fname in frame:\n",
        "        print(path+fname)\n",
        "        data = np.load(path+\"/\"+fname, allow_pickle=True)\n",
        "        print(data)\n",
        "        plot(fname, data, cnt)\n",
        "        cnt += 1\n",
        "    plt.show()\n"
      ]
    }
  ],
  "metadata": {
    "accelerator": "GPU",
    "colab": {
      "collapsed_sections": [],
      "name": "DeeBERT.ipynb",
      "provenance": []
    },
    "kernelspec": {
      "display_name": "Python 3",
      "name": "python3"
    },
    "language_info": {
      "codemirror_mode": {
        "name": "ipython",
        "version": 3
      },
      "file_extension": ".py",
      "mimetype": "text/x-python",
      "name": "python",
      "nbconvert_exporter": "python",
      "pygments_lexer": "ipython3",
      "version": "3.9.7"
    }
  },
  "nbformat": 4,
  "nbformat_minor": 0
}
