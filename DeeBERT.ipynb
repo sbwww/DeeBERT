{
  "cells": [
    {
      "cell_type": "markdown",
      "metadata": {},
      "source": [
        "### Install dependencies"
      ]
    },
    {
      "cell_type": "code",
      "execution_count": null,
      "metadata": {
        "colab": {
          "base_uri": "https://localhost:8080/"
        },
        "id": "TBlw3BzstgWA",
        "outputId": "e445a3a9-574a-4560-e73a-a948e77cdcd0"
      },
      "outputs": [],
      "source": [
        "!conda activate py39\n",
        "!conda install --file ./requirements.txt\n",
        "!conda install --file ./examples/requirements.txt\n"
      ]
    },
    {
      "cell_type": "markdown",
      "metadata": {
        "id": "2t8IsAAPadUR"
      },
      "source": [
        "### Download GLUE dataset\n"
      ]
    },
    {
      "cell_type": "code",
      "execution_count": null,
      "metadata": {
        "colab": {
          "base_uri": "https://localhost:8080/"
        },
        "id": "XAKIu1S2vkUW",
        "outputId": "6799c519-1904-458c-90da-847b87414513"
      },
      "outputs": [],
      "source": [
        "!python download_glue_data.py --data_dir glue_data --tasks all\n"
      ]
    },
    {
      "cell_type": "markdown",
      "metadata": {
        "id": "TG7ZYWt4adUV"
      },
      "source": [
        "### Variables\n"
      ]
    },
    {
      "cell_type": "code",
      "execution_count": null,
      "metadata": {
        "id": "03UBcgP3adUW"
      },
      "outputs": [],
      "source": [
        "PATH_TO_DATA = \"glue_data\"\n",
        "MODEL_TYPE = \"bert\"  # bert or roberta\n",
        "MODEL_SIZE = \"base\"  # base or large\n",
        "DATASETS = [\"CoLA\", \"SST-2\", \"MRPC\", \"STS-B\",\n",
        "            \"QQP\", \"MNLI\", \"QNLI\", \"RTE\", \"WNLI\"] # GLUE\n",
        "# CoLA  acceptability\n",
        "# SST-2 sentiment\n",
        "# MRPC  paraphrase\n",
        "# STS-B sentence similarity\n",
        "# QQP   paraphase\n",
        "# MNLI  NLI\n",
        "# QNLI  QA/NLI\n",
        "# RTE   NLI\n",
        "# WNLI  coreference/NLI\n",
        "DATASET = \"CoLA\"\n",
        "N_GPU = 2\n"
      ]
    },
    {
      "cell_type": "markdown",
      "metadata": {
        "id": "IpEL7einadUX"
      },
      "source": [
        "### This is for fine-tuning and evaluating models as in the original BERT paper.\n"
      ]
    },
    {
      "cell_type": "code",
      "execution_count": null,
      "metadata": {
        "colab": {
          "base_uri": "https://localhost:8080/"
        },
        "id": "tLCNKcVT02ys",
        "outputId": "4aa05255-9ea7-4c80-95c6-f7e207e3d734"
      },
      "outputs": [],
      "source": [
        "!bash scripts/train.sh {PATH_TO_DATA} {MODEL_TYPE} {MODEL_SIZE} {DATASET} {N_GPU}\n"
      ]
    },
    {
      "cell_type": "markdown",
      "metadata": {
        "id": "vONhZ5TNadUa"
      },
      "source": [
        "### This is for fine-tuning DeeBERT models.\n"
      ]
    },
    {
      "cell_type": "code",
      "execution_count": null,
      "metadata": {
        "colab": {
          "base_uri": "https://localhost:8080/"
        },
        "id": "EJw_IZEW-6OB",
        "outputId": "da9973a1-b44a-46b4-c79f-6ddf0cfcb17e"
      },
      "outputs": [],
      "source": [
        "!bash scripts/train_highway.sh {PATH_TO_DATA} {MODEL_TYPE} {MODEL_SIZE} {DATASET} {N_GPU}\n"
      ]
    },
    {
      "cell_type": "markdown",
      "metadata": {
        "id": "i0mxBsXxadUd"
      },
      "source": [
        "### This is for evaluating each exit layer for fine-tuned DeeBERT models.\n"
      ]
    },
    {
      "cell_type": "code",
      "execution_count": null,
      "metadata": {
        "colab": {
          "base_uri": "https://localhost:8080/"
        },
        "id": "aUw9rF-rDxf_",
        "outputId": "d11eec40-50b3-48cc-f323-c69b66c2adb0"
      },
      "outputs": [],
      "source": [
        "!bash scripts/eval_highway.sh {PATH_TO_DATA} {MODEL_TYPE} {MODEL_SIZE} {DATASET}\n"
      ]
    },
    {
      "cell_type": "markdown",
      "metadata": {
        "id": "oxrab0c7adUf"
      },
      "source": [
        "### This is for evaluating fine-tuned DeeBERT models, given a number of different early exit entropy thresholds.\n"
      ]
    },
    {
      "cell_type": "code",
      "execution_count": null,
      "metadata": {
        "colab": {
          "base_uri": "https://localhost:8080/"
        },
        "id": "bPTUPCUlDqiF",
        "outputId": "89fd6141-10d7-41ef-8aee-c03e8fa068b9"
      },
      "outputs": [],
      "source": [
        "!bash scripts/eval_entropy.sh {PATH_TO_DATA} {MODEL_TYPE} {MODEL_SIZE} {DATASET}\n"
      ]
    },
    {
      "cell_type": "markdown",
      "metadata": {},
      "source": [
        "### This is for reading `.npy` data in `plotting/`\n"
      ]
    },
    {
      "cell_type": "code",
      "execution_count": null,
      "metadata": {
        "colab": {
          "base_uri": "https://localhost:8080/"
        },
        "id": "gxuy21xladUh",
        "outputId": "e054e910-99fd-47a4-f2bb-8e21dfc86e8c"
      },
      "outputs": [],
      "source": [
        "import os\n",
        "import numpy as np\n",
        "import matplotlib.pyplot as plt\n",
        "\n",
        "correct_colors = ['#99e2b4', '#78c6a3', '#56AB91', '#469D89',\n",
        "                  '#358F80', '#248277', '#14746F', '#036666']\n",
        "incorrect_colors = ['#FFF0F3', '#FFB3C1', '#FF758F', '#FF4D6D',\n",
        "                    '#C9184A', '#A4133C', '#800F2F', '#590D22']\n",
        "\n",
        "\n",
        "def plot(fname, data, cnt):\n",
        "    if fname == 'each_layer.npy':\n",
        "        x = np.arange(1, 13)\n",
        "        ax2.plot(x, data)\n",
        "        ax2.set_xlabel('Layer')\n",
        "        ax2.set_ylabel('Score')\n",
        "        ax2.xaxis.set_major_locator(plt.MultipleLocator(1))\n",
        "        ax2.yaxis.set_major_locator(plt.MultipleLocator(0.1))\n",
        "        ax2.set_ylim(bottom=0, top=1)\n",
        "    else:\n",
        "        total = list(data[0].values())\n",
        "        correct = list(data[1].values())\n",
        "        incorrect = [i - j for i, j in zip(total, correct)]\n",
        "        y_lim = np.sum(total)\n",
        "        x = np.arange(1, 13)\n",
        "        width = 0.12\n",
        "        bias = (cnt-4.5)*width\n",
        "        ax1.bar(x+bias, correct, width, label='correct',\n",
        "                color=correct_colors[(cnt-1) % len(correct_colors)])\n",
        "        ax1.bar(x+bias, incorrect, width,\n",
        "                bottom=correct, label='incorrect', color=incorrect_colors[(cnt-1) % len(incorrect_colors)])\n",
        "        ax1.set_title(DATASET+' early exit evaluation')\n",
        "        ax1.set_xlabel('Layer')\n",
        "        ax1.set_ylabel('Number (total: {})'.format(y_lim))\n",
        "        ax1.xaxis.set_major_locator(plt.MultipleLocator(1))\n",
        "        ax1.set_xlim(left=0.5, right=12.5)\n",
        "        ax1.set_ylim(bottom=0, top=y_lim)\n",
        "\n",
        "\n",
        "for DATASET in DATASETS:\n",
        "    print(DATASET)\n",
        "    relative_path = \"plotting/saved_models/\"+MODEL_TYPE + \\\n",
        "        \"-\"+MODEL_SIZE+\"/\"+DATASET+\"/two_stage/\"\n",
        "    for path, lists, frame in os.walk(relative_path):\n",
        "        frame.sort()\n",
        "        cnt = 0\n",
        "        fig = plt.figure(figsize=(10, 6))\n",
        "        ax1 = fig.add_subplot(1, 1, 1)\n",
        "        ax2 = ax1.twinx()\n",
        "        for fname in frame:\n",
        "            data = np.load(path+\"/\"+fname, allow_pickle=True)\n",
        "            plot(fname, data, cnt)\n",
        "            cnt += 1\n",
        "        plt.show()\n"
      ]
    }
  ],
  "metadata": {
    "accelerator": "GPU",
    "colab": {
      "collapsed_sections": [],
      "name": "DeeBERT.ipynb",
      "provenance": []
    },
    "kernelspec": {
      "display_name": "Python 3",
      "name": "python3"
    },
    "language_info": {
      "codemirror_mode": {
        "name": "ipython",
        "version": 3
      },
      "file_extension": ".py",
      "mimetype": "text/x-python",
      "name": "python",
      "nbconvert_exporter": "python",
      "pygments_lexer": "ipython3",
      "version": "3.7.3"
    }
  },
  "nbformat": 4,
  "nbformat_minor": 0
}
